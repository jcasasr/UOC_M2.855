{
 "cells": [
  {
   "cell_type": "markdown",
   "metadata": {},
   "source": [
    "<div style=\"width: 100%; clear: both;\">\n",
    "    <div style=\"float: left; width: 50%;\">\n",
    "        <img src=\"../figs/uoc_masterbrand_3linies_positiu.png\", align=\"left\">\n",
    "    </div>\n",
    "    <div style=\"float: right; width: 50%;\">\n",
    "        <p style=\"margin: 0; padding-top: 22px; text-align:right;\">M2.855 · Modelos avanzados de minería de datos</p>\n",
    "        <p style=\"margin: 0; text-align:right;\">Máster universitario en Ciencia de datos (<i>Data science</i>)</p>\n",
    "        <p style=\"margin: 0; text-align:right; padding-button: 100px;\">Estudios de Informática, Multimedia y Telecomunicación</p>\n",
    "    </div>\n",
    "</div>\n",
    "<div style=\"width:100%;\">&nbsp;</div>"
   ]
  },
  {
   "cell_type": "markdown",
   "metadata": {},
   "source": [
    "# Red neuronal para clasificación de FASHION-MNIST\n",
    "\n",
    "En este ejemplo veremos la creación de una red neuronal mediante el uso de Python y la librería `keras`, para realizar una clasificación de objetos a partir del conjunto de datos [Fashion-MNITS](http://yann.lecun.com/exdb/mnist/). "
   ]
  },
  {
   "cell_type": "markdown",
   "metadata": {},
   "source": [
    "## 1. Carga de librerías y datos"
   ]
  },
  {
   "cell_type": "code",
   "execution_count": 2,
   "metadata": {},
   "outputs": [],
   "source": [
    "import numpy as np\n",
    "import keras\n",
    "from keras.datasets import fashion_mnist\n",
    "from keras.utils import to_categorical\n",
    "from keras.models import Sequential\n",
    "from keras.layers import Dense, Conv2D, Flatten, Activation, Dropout, MaxPooling2D, BatchNormalization\n",
    "import matplotlib.pyplot as plt"
   ]
  },
  {
   "cell_type": "markdown",
   "metadata": {},
   "source": [
    "Descarga el conjunto de datos MNIST y realiza la partición entrenamiento / test."
   ]
  },
  {
   "cell_type": "code",
   "execution_count": 3,
   "metadata": {},
   "outputs": [],
   "source": [
    "(x_train_orig, y_train_orig), (x_test_orig, y_test_orig) = fashion_mnist.load_data()"
   ]
  },
  {
   "cell_type": "markdown",
   "metadata": {},
   "source": [
    "Visualización de uno de los objetos para verificar de forma visual el tamaño, canal de color, etc."
   ]
  },
  {
   "cell_type": "code",
   "execution_count": 4,
   "metadata": {},
   "outputs": [
    {
     "data": {
      "image/png": "[encoded data removed]",
      "text/plain": [
       "<Figure size 432x288 with 1 Axes>"
      ]
     },
     "metadata": {
      "needs_background": "light"
     },
     "output_type": "display_data"
    }
   ],
   "source": [
    "first_image = x_train_orig[0]\n",
    "first_image = np.array(first_image, dtype='float')\n",
    "pixels = first_image.reshape((28, 28))\n",
    "plt.imshow(pixels, cmap='gray')\n",
    "plt.show()"
   ]
  },
  {
   "cell_type": "markdown",
   "metadata": {},
   "source": [
    "Realizamos una conversión de formato para que las imágenes estén correctamente almacenadas en la estructura de 4 dimensiones:\n",
    "- número de imagen \n",
    "- alto \n",
    "- ancho \n",
    "- canal de color (en este caso concreto, un solo canal que corresponde a la escala de gris).\n",
    "\n",
    "A continuación, realizamos la conversión a variable categórica de las etiquetas de las imágenes mediante la función `to_categoricaly`."
   ]
  },
  {
   "cell_type": "code",
   "execution_count": 5,
   "metadata": {},
   "outputs": [],
   "source": [
    "x_train = x_train_orig.reshape(60000,28,28,1)\n",
    "x_test = x_test_orig.reshape(10000,28,28,1)\n",
    "\n",
    "y_train = to_categorical(y_train_orig, 10)\n",
    "y_test = to_categorical(y_test_orig, 10)"
   ]
  },
  {
   "cell_type": "markdown",
   "metadata": {},
   "source": [
    "## 2. Creación del modelo "
   ]
  },
  {
   "cell_type": "markdown",
   "metadata": {},
   "source": [
    "A continuación construimos la red neuronal, que en este caso estará formada por las siguientes capas:\n",
    "- Capa convolucional de 32 *kernels* de tamaño *3x3* y activación `RELU`\n",
    "- Capa convolucional de 64 *kernels* de tamaño *3x3* y activación `RELU`\n",
    "- Capa *Max pooling*\n",
    "- Capa *Dropout* con probabilidad igual al 25 %\n",
    "- Capa densamente conectada con 128 neuronas y activación `RELU`\n",
    "- Capa *Dropout*\n",
    "- Capa de salida, formada por 10 neuronas (tenemos 10 clases en el conjunto de datos) y *softmax*\n",
    "\n",
    "Finalmente, vemos los detalles del modelo construido (para cada capa, vemos las dimensiones de salida, número de parámetros entrenables, etc.)."
   ]
  },
  {
   "cell_type": "code",
   "execution_count": 6,
   "metadata": {},
   "outputs": [],
   "source": [
    "model = Sequential()\n",
    "model.add(Conv2D(32, kernel_size=(3, 3), activation=\"relu\", input_shape=(28,28,1)))\n",
    "model.add(Conv2D(64, (3, 3), activation=\"relu\"))\n",
    "model.add(MaxPooling2D(pool_size=(2, 2)))\n",
    "model.add(Dropout(0.25))\n",
    "model.add(Flatten())\n",
    "model.add(Dense(128, activation=\"relu\"))\n",
    "model.add(Dropout(0.5))\n",
    "model.add(Dense(10, activation=\"softmax\"))"
   ]
  },
  {
   "cell_type": "markdown",
   "metadata": {},
   "source": [
    "Resumen de la información del modelo."
   ]
  },
  {
   "cell_type": "code",
   "execution_count": 7,
   "metadata": {},
   "outputs": [
    {
     "name": "stdout",
     "output_type": "stream",
     "text": [
      "Model: \"sequential\"\n",
      "_________________________________________________________________\n",
      "Layer (type)                 Output Shape              Param #   \n",
      "=================================================================\n",
      "conv2d (Conv2D)              (None, 26, 26, 32)        320       \n",
      "_________________________________________________________________\n",
      "conv2d_1 (Conv2D)            (None, 24, 24, 64)        18496     \n",
      "_________________________________________________________________\n",
      "max_pooling2d (MaxPooling2D) (None, 12, 12, 64)        0         \n",
      "_________________________________________________________________\n",
      "dropout (Dropout)            (None, 12, 12, 64)        0         \n",
      "_________________________________________________________________\n",
      "flatten (Flatten)            (None, 9216)              0         \n",
      "_________________________________________________________________\n",
      "dense (Dense)                (None, 128)               1179776   \n",
      "_________________________________________________________________\n",
      "dropout_1 (Dropout)          (None, 128)               0         \n",
      "_________________________________________________________________\n",
      "dense_1 (Dense)              (None, 10)                1290      \n",
      "=================================================================\n",
      "Total params: 1,199,882\n",
      "Trainable params: 1,199,882\n",
      "Non-trainable params: 0\n",
      "_________________________________________________________________\n"
     ]
    }
   ],
   "source": [
    "model.summary()"
   ]
  },
  {
   "cell_type": "markdown",
   "metadata": {},
   "source": [
    "Realizamos el entrenamiento sobre el conjunto de *train*."
   ]
  },
  {
   "cell_type": "code",
   "execution_count": 8,
   "metadata": {},
   "outputs": [
    {
     "name": "stdout",
     "output_type": "stream",
     "text": [
      "Epoch 1/12\n",
      "469/469 [==============================] - 132s 282ms/step - loss: 17.9746 - accuracy: 0.1978 - val_loss: 2.4848 - val_accuracy: 0.5379\n",
      "Epoch 2/12\n",
      "469/469 [==============================] - 117s 249ms/step - loss: 6.5689 - accuracy: 0.3167 - val_loss: 1.2629 - val_accuracy: 0.5806\n",
      "Epoch 3/12\n",
      "469/469 [==============================] - 123s 262ms/step - loss: 3.3983 - accuracy: 0.3430 - val_loss: 1.4255 - val_accuracy: 0.5395\n",
      "Epoch 4/12\n",
      "469/469 [==============================] - 134s 285ms/step - loss: 2.3783 - accuracy: 0.3502 - val_loss: 1.5371 - val_accuracy: 0.5418\n",
      "Epoch 5/12\n",
      "469/469 [==============================] - 118s 251ms/step - loss: 2.0596 - accuracy: 0.3734 - val_loss: 1.5313 - val_accuracy: 0.5527\n",
      "Epoch 6/12\n",
      "469/469 [==============================] - 116s 247ms/step - loss: 1.9155 - accuracy: 0.3983 - val_loss: 1.4697 - val_accuracy: 0.5769\n",
      "Epoch 7/12\n",
      "469/469 [==============================] - 113s 240ms/step - loss: 1.8349 - accuracy: 0.4184 - val_loss: 1.3985 - val_accuracy: 0.6030\n",
      "Epoch 8/12\n",
      "469/469 [==============================] - 110s 235ms/step - loss: 1.7426 - accuracy: 0.4402 - val_loss: 1.3081 - val_accuracy: 0.6293\n",
      "Epoch 9/12\n",
      "469/469 [==============================] - 124s 265ms/step - loss: 1.6664 - accuracy: 0.4616 - val_loss: 1.2316 - val_accuracy: 0.6512\n",
      "Epoch 10/12\n",
      "469/469 [==============================] - 119s 253ms/step - loss: 1.6142 - accuracy: 0.4767 - val_loss: 1.1583 - val_accuracy: 0.6650\n",
      "Epoch 11/12\n",
      "469/469 [==============================] - 122s 260ms/step - loss: 1.5683 - accuracy: 0.4931 - val_loss: 1.1157 - val_accuracy: 0.6755\n",
      "Epoch 12/12\n",
      "469/469 [==============================] - 119s 253ms/step - loss: 1.5266 - accuracy: 0.5057 - val_loss: 1.0743 - val_accuracy: 0.6844\n"
     ]
    }
   ],
   "source": [
    "batch_size = 128\n",
    "n_epochs = 12\n",
    "\n",
    "model.compile(loss=keras.losses.categorical_crossentropy,\n",
    "              optimizer=keras.optimizers.Adadelta(),\n",
    "              metrics=['accuracy'])\n",
    "\n",
    "mfit = model.fit(x_train, y_train,\n",
    "          validation_data=(x_test, y_test),\n",
    "          batch_size=batch_size,\n",
    "          epochs=n_epochs)"
   ]
  },
  {
   "cell_type": "markdown",
   "metadata": {},
   "source": [
    "## 3. Evaluación del modelo"
   ]
  },
  {
   "cell_type": "markdown",
   "metadata": {},
   "source": [
    "Revisamos la información disponible del entrenamiento para poder ver su evolución."
   ]
  },
  {
   "cell_type": "code",
   "execution_count": 9,
   "metadata": {},
   "outputs": [
    {
     "name": "stdout",
     "output_type": "stream",
     "text": [
      "dict_keys(['loss', 'accuracy', 'val_loss', 'val_accuracy'])\n"
     ]
    }
   ],
   "source": [
    "print(mfit.history.keys())"
   ]
  },
  {
   "cell_type": "markdown",
   "metadata": {},
   "source": [
    "Creamos dos gráficas:\n",
    "1. En la primera presentamos la evolución de la *accuracy* del modelo durante las 12 épocas del entrenamiento, teniendo en cuenta los datos de entrenamiento y test.\n",
    "2. En la segunda presentamos la evolución de la función de *loss* durante el entrenamiento."
   ]
  },
  {
   "cell_type": "code",
   "execution_count": 10,
   "metadata": {},
   "outputs": [
    {
     "data": {
      "image/png": "[encoded data removed]",
      "text/plain": [
       "<Figure size 432x288 with 1 Axes>"
      ]
     },
     "metadata": {
      "needs_background": "light"
     },
     "output_type": "display_data"
    },
    {
     "data": {
      "image/png": "[encoded data removed]",
      "text/plain": [
       "<Figure size 432x288 with 1 Axes>"
      ]
     },
     "metadata": {
      "needs_background": "light"
     },
     "output_type": "display_data"
    }
   ],
   "source": [
    "# Accuracy\n",
    "plt.plot(mfit.history['accuracy'])\n",
    "plt.plot(mfit.history['val_accuracy'])\n",
    "plt.title('model accuracy')\n",
    "plt.ylabel('accuracy')\n",
    "plt.xlabel('epoch')\n",
    "plt.legend(['train', 'validation'], loc='upper left')\n",
    "plt.show()\n",
    "\n",
    "# Loss\n",
    "plt.plot(mfit.history['loss'])\n",
    "plt.plot(mfit.history['val_loss'])\n",
    "plt.title('model loss')\n",
    "plt.ylabel('loss')\n",
    "plt.xlabel('epoch')\n",
    "plt.legend(['train', 'validation'], loc='upper left')\n",
    "plt.show()"
   ]
  },
  {
   "cell_type": "markdown",
   "metadata": {},
   "source": [
    "Realizamos la evaluación del modelo sobre el conjunto de datos de *test*."
   ]
  },
  {
   "cell_type": "code",
   "execution_count": 11,
   "metadata": {},
   "outputs": [
    {
     "name": "stdout",
     "output_type": "stream",
     "text": [
      "Test loss    : 1.0742838382720947\n",
      "Test accuracy: 0.6844000220298767\n"
     ]
    }
   ],
   "source": [
    "# Evaluación del modelo sobre el conjunto de test\n",
    "score = model.evaluate(x_test, y_test, verbose=0)\n",
    "print('Test loss    :', score[0])\n",
    "print('Test accuracy:', score[1])"
   ]
  },
  {
   "cell_type": "markdown",
   "metadata": {},
   "source": [
    "Mostramos, en primer lugar, el vector de predicciones para cada uno de los 4 primeros registros de test. \n",
    "\n",
    "Cada vector está formado por 10 números, que indican la probabilidad de este registro de pertenecer a cada una de las 10 categorías que existen en este conjunto de datos.\n",
    "\n",
    "En segundo lugar, mostramos los valores correctos (etiquetados en el conjunto original) para estos 4 primeros registros correspondientes a las cuatro primeras imágenes del conjunto de test."
   ]
  },
  {
   "cell_type": "code",
   "execution_count": 12,
   "metadata": {},
   "outputs": [
    {
     "name": "stdout",
     "output_type": "stream",
     "text": [
      "[[1.14480217e-05 1.19660235e-05 9.83990412e-06 3.15022844e-05\n",
      "  5.31880301e-04 2.08382029e-02 7.96285349e-06 4.54229087e-01\n",
      "  4.60096933e-02 4.78318363e-01]\n",
      " [9.99590456e-02 9.96513292e-02 1.00593142e-01 1.00256324e-01\n",
      "  1.00447178e-01 9.95220765e-02 1.00438789e-01 9.97426659e-02\n",
      "  9.98565778e-02 9.95327979e-02]\n",
      " [7.41981125e-07 9.98941123e-01 1.68126659e-04 1.63347431e-04\n",
      "  2.81428976e-04 9.52346600e-05 3.80696360e-06 3.42579879e-04\n",
      "  4.57100356e-07 3.12267753e-06]\n",
      " [1.96520105e-07 9.99319315e-01 2.53070786e-04 2.12107581e-04\n",
      "  1.44716410e-04 1.91246490e-05 1.00141324e-06 4.89802587e-05\n",
      "  4.08160616e-07 9.75764124e-07]]\n"
     ]
    }
   ],
   "source": [
    "# Predicción de las cuatro primeras imágenes del conjunto de test\n",
    "print(model.predict(x_test[:4]))"
   ]
  },
  {
   "cell_type": "code",
   "execution_count": 13,
   "metadata": {},
   "outputs": [
    {
     "data": {
      "text/plain": [
       "array([[0., 0., 0., 0., 0., 0., 0., 0., 0., 1.],\n",
       "       [0., 0., 1., 0., 0., 0., 0., 0., 0., 0.],\n",
       "       [0., 1., 0., 0., 0., 0., 0., 0., 0., 0.],\n",
       "       [0., 1., 0., 0., 0., 0., 0., 0., 0., 0.]], dtype=float32)"
      ]
     },
     "execution_count": 13,
     "metadata": {},
     "output_type": "execute_result"
    }
   ],
   "source": [
    "y_test[:4]"
   ]
  },
  {
   "cell_type": "markdown",
   "metadata": {},
   "source": [
    "En segundo lugar, mostramos los valores correctos (etiquetados en el conjunto original) para estos 4 primeros registros."
   ]
  }
 ],
 "metadata": {
  "kernelspec": {
   "display_name": "Python 3",
   "language": "python",
   "name": "python3"
  },
  "language_info": {
   "codemirror_mode": {
    "name": "ipython",
    "version": 3
   },
   "file_extension": ".py",
   "mimetype": "text/x-python",
   "name": "python",
   "nbconvert_exporter": "python",
   "pygments_lexer": "ipython3",
   "version": "3.8.8"
  }
 },
 "nbformat": 4,
 "nbformat_minor": 4
}
