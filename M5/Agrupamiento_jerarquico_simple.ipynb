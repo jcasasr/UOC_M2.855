{
 "cells": [
  {
   "cell_type": "markdown",
   "metadata": {},
   "source": [
    "<div style=\"width: 100%; clear: both;\">\n",
    "    <div style=\"float: left; width: 50%;\">\n",
    "        <img src=\"../figs/uoc_masterbrand_3linies_positiu.png\", align=\"left\">\n",
    "    </div>\n",
    "    <div style=\"float: right; width: 50%;\">\n",
    "        <p style=\"margin: 0; padding-top: 22px; text-align:right;\">M2.855 · Modelos avanzados de minería de datos</p>\n",
    "        <p style=\"margin: 0; text-align:right;\">Máster universitario en Ciencia de datos (<i>Data science</i>)</p>\n",
    "        <p style=\"margin: 0; text-align:right; padding-button: 100px;\">Estudios de Informática, Multimedia y Telecomunicación</p>\n",
    "    </div>\n",
    "</div>\n",
    "<div style=\"width:100%;\">&nbsp;</div>"
   ]
  },
  {
   "cell_type": "markdown",
   "metadata": {},
   "source": [
    "# Ejemplo de agrupamiento jerárquico sencillo\n",
    "\n",
    "El objetivo de este ejemplo sencillo es entender el funcionamiento del agrupamiento jerárquico.\n"
   ]
  },
  {
   "cell_type": "markdown",
   "metadata": {},
   "source": [
    "### Carga de las librerías"
   ]
  },
  {
   "cell_type": "code",
   "execution_count": 1,
   "metadata": {},
   "outputs": [],
   "source": [
    "import numpy as np"
   ]
  },
  {
   "cell_type": "markdown",
   "metadata": {},
   "source": [
    "Tenemos una colección de puntos a los que representamos como un array de `numpy`. "
   ]
  },
  {
   "cell_type": "code",
   "execution_count": 2,
   "metadata": {},
   "outputs": [],
   "source": [
    "LM_points = np.array([[2,2], [2,4], [4,4], [6,6], [7,8], [2,9], [8,5], [7,2], [8,7], [5,1],])"
   ]
  },
  {
   "cell_type": "markdown",
   "metadata": {},
   "source": [
    "Ahora vamos a visualizar dichos puntos. "
   ]
  },
  {
   "cell_type": "code",
   "execution_count": 3,
   "metadata": {},
   "outputs": [
    {
     "data": {
      "image/png": "[encoded data removed]",
      "text/plain": [
       "<Figure size 720x504 with 1 Axes>"
      ]
     },
     "metadata": {
      "needs_background": "light"
     },
     "output_type": "display_data"
    }
   ],
   "source": [
    "import matplotlib.pyplot as plt\n",
    "\n",
    "labels = range(1, 11)\n",
    "plt.figure(figsize=(10, 7))\n",
    "plt.subplots_adjust(bottom=0.1)\n",
    "plt.scatter(LM_points[:,0],LM_points[:,1], label='True Position')\n",
    "\n",
    "for label, x, y in zip(labels, LM_points[:, 0], LM_points[:, 1]):\n",
    "    plt.annotate(\n",
    "        label,\n",
    "        xy=(x, y), xytext=(-3, 3),\n",
    "        textcoords='offset points', ha='right', va='bottom')\n",
    "plt.show()"
   ]
  },
  {
   "cell_type": "markdown",
   "metadata": {},
   "source": [
    "Estos son los puntos representados: \n",
    "- Punto 1 o A: [2,2]\n",
    "- Punto 2 o B: [2,4]\n",
    "- Punto 3 o C: [4,4]\n",
    "- Punto 4 o D: [6,6]\n",
    "- Punto 5 o E: [7,8]\n",
    "- Punto 6 o F: [2,9]\n",
    "- Punto 7 o G: [8,5]\n",
    "- Punto 8 o H: [7,2]\n",
    "- Punto 9 o I: [8,7]\n",
    "- Punto 10 o J: [5,1]"
   ]
  },
  {
   "cell_type": "markdown",
   "metadata": {},
   "source": [
    "En este gráfico aún no vemos muy bien qué posibles clústeres se podrían formar. Para ello vamos a crear el dendograma que corresponde a estos puntos, empleando la librería `scipy`. "
   ]
  },
  {
   "cell_type": "code",
   "execution_count": 4,
   "metadata": {},
   "outputs": [
    {
     "data": {
      "image/png": "[encoded data removed]",
      "text/plain": [
       "<Figure size 720x504 with 1 Axes>"
      ]
     },
     "metadata": {
      "needs_background": "light"
     },
     "output_type": "display_data"
    }
   ],
   "source": [
    "from scipy.cluster.hierarchy import dendrogram, linkage\n",
    "from matplotlib import pyplot as plt\n",
    "\n",
    "linked = linkage(LM_points, 'single')\n",
    "\n",
    "labelList = range(1, 11)\n",
    "\n",
    "plt.figure(figsize=(10, 7))\n",
    "dendrogram(linked,\n",
    "            orientation='top',\n",
    "            labels=labelList,\n",
    "            distance_sort='descending',\n",
    "            show_leaf_counts=True)\n",
    "plt.show()"
   ]
  },
  {
   "cell_type": "markdown",
   "metadata": {},
   "source": [
    "El algoritmo empieza encontrando los dos puntos que están más cerca uno de otro, en este caso de acuerdo con la distancia euclídea. Como vemos en el primer gráfico, los puntos más cercanos son el 5 y el 9, en este caso el I y el E. El primer clúster sería, por tanto, el IE. De esta forma, basándonos en el dendograma, veríamos que en la siguiente iteración del algoritmo se crean dos clústeres. Al clúster IE se le uniría el punto 7, es decir el punto G, de modo que tendríamos en la segunda iteración el clúster IEG y, por otra parte, el clúster 3,1,2, es decir, el clúster CBA. Así, iríamos subiendo por el dendograma. \n",
    "\n",
    "Al final tendríamos dos clústeres (uno formado por todos los puntos menos el 6) y otro formado por un solo punto, el 6. "
   ]
  }
 ],
 "metadata": {
  "kernelspec": {
   "display_name": "Python 3",
   "language": "python",
   "name": "python3"
  },
  "language_info": {
   "codemirror_mode": {
    "name": "ipython",
    "version": 3
   },
   "file_extension": ".py",
   "mimetype": "text/x-python",
   "name": "python",
   "nbconvert_exporter": "python",
   "pygments_lexer": "ipython3",
   "version": "3.8.8"
  }
 },
 "nbformat": 4,
 "nbformat_minor": 4
}
